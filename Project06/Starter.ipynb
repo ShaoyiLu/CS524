{
 "cells": [
  {
   "cell_type": "markdown",
   "metadata": {},
   "source": [
    "# Starter Code"
   ]
  },
  {
   "cell_type": "markdown",
   "metadata": {},
   "source": [
    "## For Q1\n"
   ]
  },
  {
   "cell_type": "code",
   "execution_count": 1,
   "metadata": {},
   "outputs": [
    {
     "name": "stderr",
     "output_type": "stream",
     "text": [
      "\u001b[32m\u001b[1m    Updating\u001b[22m\u001b[39m registry at `C:\\Users\\16084\\.julia\\registries\\General.toml`\n",
      "\u001b[32m\u001b[1m   Resolving\u001b[22m\u001b[39m package versions...\n",
      "\u001b[32m\u001b[1m  No Changes\u001b[22m\u001b[39m to `C:\\Users\\16084\\.julia\\environments\\v1.8\\Project.toml`\n",
      "\u001b[32m\u001b[1m  No Changes\u001b[22m\u001b[39m to `C:\\Users\\16084\\.julia\\environments\\v1.8\\Manifest.toml`\n",
      "\u001b[32m\u001b[1m   Resolving\u001b[22m\u001b[39m package versions...\n",
      "\u001b[32m\u001b[1m  No Changes\u001b[22m\u001b[39m to `C:\\Users\\16084\\.julia\\environments\\v1.8\\Project.toml`\n",
      "\u001b[32m\u001b[1m  No Changes\u001b[22m\u001b[39m to `C:\\Users\\16084\\.julia\\environments\\v1.8\\Manifest.toml`\n",
      "\u001b[32m\u001b[1m   Resolving\u001b[22m\u001b[39m package versions...\n",
      "\u001b[32m\u001b[1m  No Changes\u001b[22m\u001b[39m to `C:\\Users\\16084\\.julia\\environments\\v1.8\\Project.toml`\n",
      "\u001b[32m\u001b[1m  No Changes\u001b[22m\u001b[39m to `C:\\Users\\16084\\.julia\\environments\\v1.8\\Manifest.toml`\n",
      "\u001b[32m\u001b[1m   Resolving\u001b[22m\u001b[39m package versions...\n",
      "\u001b[32m\u001b[1m  No Changes\u001b[22m\u001b[39m to `C:\\Users\\16084\\.julia\\environments\\v1.8\\Project.toml`\n",
      "\u001b[32m\u001b[1m  No Changes\u001b[22m\u001b[39m to `C:\\Users\\16084\\.julia\\environments\\v1.8\\Manifest.toml`\n"
     ]
    }
   ],
   "source": [
    "using Pkg\n",
    "Pkg.add(\"JuMP\")\n",
    "Pkg.add(\"HiGHS\")\n",
    "Pkg.add(\"Ipopt\")\n",
    "Pkg.add(\"LinearAlgebra\")"
   ]
  },
  {
   "cell_type": "markdown",
   "metadata": {},
   "source": [
    "## Q1(a)"
   ]
  },
  {
   "cell_type": "code",
   "execution_count": 2,
   "metadata": {},
   "outputs": [
    {
     "name": "stdout",
     "output_type": "stream",
     "text": [
      "probability of point in polyhedron = 0.986"
     ]
    }
   ],
   "source": [
    "using JuMP, HiGHS, Ipopt\n",
    "using LinearAlgebra\n",
    "\n",
    "M = 20\n",
    "N = 100\n",
    "\n",
    "# generate the random polyhedron\n",
    "\n",
    "b = rand(M)*100 \n",
    "A = rand(M,N)*4 .- 2;\n",
    "\n",
    "# model for 1-norm projection\n",
    "norm1 = Model(HiGHS.Optimizer) \n",
    "\n",
    "# model for 2-norm projection\n",
    "norm2 = Model(Ipopt.Optimizer) \n",
    "\n",
    "# model for infinity-norm projection\n",
    "norm_inf = Model(HiGHS.Optimizer) \n",
    "\n",
    "# use these commands to suppress diagnostic output\n",
    "set_silent(norm1)\n",
    "set_silent(norm2)\n",
    "set_silent(norm_inf)\n",
    "\n",
    "# do \"iteration\" tests of random points to see what fraction are in the polyhedron\n",
    "\n",
    "count_in=0\n",
    "iteration = 1000\n",
    "\n",
    "# Here insert \"iteration\" random trials for points and check to see whether they are in P. \n",
    "# Increment count_in if they are. \n",
    "# save a point x_hat that is NOT in P\n",
    "# Calculate prob_in_P.\n",
    "\n",
    "x_hat = rand(N)*2 .- 1\n",
    "while iteration > 0\n",
    "    x = rand(N)*2 .- 1\n",
    "    if all(*(A, x) <= b)\n",
    "        count_in += 1\n",
    "    else\n",
    "    x_hat = x\n",
    "    end\n",
    "    iteration -= 1\n",
    "end\n",
    "prob_in_P = count_in/1000\n",
    "print(\"probability of point in polyhedron = \", prob_in_P)"
   ]
  },
  {
   "cell_type": "markdown",
   "metadata": {},
   "source": [
    "## Q1(b)"
   ]
  },
  {
   "cell_type": "code",
   "execution_count": 3,
   "metadata": {},
   "outputs": [
    {
     "name": "stdout",
     "output_type": "stream",
     "text": [
      "\n",
      "************** norm2 **************\n",
      "\n",
      "******************************************************************************\n",
      "This program contains Ipopt, a library for large-scale nonlinear optimization.\n",
      " Ipopt is released as open source code under the Eclipse Public License (EPL).\n",
      "         For more information visit https://github.com/coin-or/Ipopt\n",
      "******************************************************************************\n",
      "\n",
      "This is Ipopt version 3.14.4, running with linear solver MUMPS 5.5.1.\n",
      "\n",
      "Number of nonzeros in equality constraint Jacobian...:        0\n",
      "Number of nonzeros in inequality constraint Jacobian.:     2000\n",
      "Number of nonzeros in Lagrangian Hessian.............:      100\n",
      "\n",
      "Total number of variables............................:      100\n",
      "                     variables with only lower bounds:        0\n",
      "                variables with lower and upper bounds:        0\n",
      "                     variables with only upper bounds:        0\n",
      "Total number of equality constraints.................:        0\n",
      "Total number of inequality constraints...............:       20\n",
      "        inequality constraints with only lower bounds:        0\n",
      "   inequality constraints with lower and upper bounds:        0\n",
      "        inequality constraints with only upper bounds:       20\n",
      "\n",
      "iter    objective    inf_pr   inf_du lg(mu)  ||d||  lg(rg) alpha_du alpha_pr  ls\n",
      "   0  3.5017426e+01 0.00e+00 2.46e+00  -1.0 0.00e+00    -  0.00e+00 0.00e+00   0\n",
      "   1  3.8499750e+00 0.00e+00 1.17e-01  -1.0 5.30e+00    -  8.94e-01 1.00e+00f  1\n",
      "   2  1.4123120e+00 0.00e+00 1.52e-02  -1.0 5.46e+00    -  9.08e-01 1.00e+00f  1\n",
      "   3  5.7904207e-01 0.00e+00 2.00e-07  -1.7 3.58e+00    -  1.00e+00 1.00e+00f  1\n",
      "   4  3.7317603e-01 0.00e+00 2.00e-07  -1.7 1.90e+00    -  1.00e+00 1.00e+00f  1\n",
      "   5  3.1465719e-01 0.00e+00 2.83e-08  -2.5 1.06e+00    -  1.00e+00 1.00e+00f  1\n",
      "   6  3.0207478e-01 0.00e+00 1.50e-09  -3.8 5.32e-01    -  1.00e+00 1.00e+00f  1\n",
      "   7  2.9941631e-01 0.00e+00 1.50e-09  -3.8 2.33e-01    -  1.00e+00 1.00e+00f  1\n",
      "   8  2.9846439e-01 0.00e+00 1.84e-11  -5.7 8.99e-02    -  1.00e+00 1.00e+00f  1\n",
      "   9  2.9834149e-01 0.00e+00 1.84e-11  -5.7 1.52e-02    -  1.00e+00 1.00e+00f  1\n",
      "iter    objective    inf_pr   inf_du lg(mu)  ||d||  lg(rg) alpha_du alpha_pr  ls\n",
      "  10  2.9833408e-01 0.00e+00 2.51e-14  -8.6 7.00e-04    -  1.00e+00 1.00e+00f  1\n",
      "  11  2.9833407e-01 0.00e+00 9.09e-15  -9.0 1.18e-06    -  1.00e+00 1.00e+00h  1\n",
      "\n",
      "Number of Iterations....: 11\n",
      "\n",
      "                                   (scaled)                 (unscaled)\n",
      "Objective...............:   2.9833407208785823e-01    2.9833407208785823e-01\n",
      "Dual infeasibility......:   9.0909090909189293e-15    9.0909090909189293e-15\n",
      "Constraint violation....:   0.0000000000000000e+00    0.0000000000000000e+00\n",
      "Variable bound violation:   0.0000000000000000e+00    0.0000000000000000e+00\n",
      "Complementarity.........:   9.0911311369348849e-10    9.0911311369348849e-10\n",
      "Overall NLP error.......:   9.0911311369348849e-10    9.0911311369348849e-10\n",
      "\n",
      "\n",
      "Number of objective function evaluations             = 12\n",
      "Number of objective gradient evaluations             = 12\n",
      "Number of equality constraint evaluations            = 0\n",
      "Number of inequality constraint evaluations          = 12\n",
      "Number of equality constraint Jacobian evaluations   = 0\n",
      "Number of inequality constraint Jacobian evaluations = 1\n",
      "Number of Lagrangian Hessian evaluations             = 1\n",
      "Total seconds in IPOPT                               = 0.446\n",
      "\n",
      "EXIT: Optimal Solution Found.\n",
      "2-norm distance to P is 0.5461996632073827"
     ]
    }
   ],
   "source": [
    "# here define constraints for the three projection models \n",
    "\n",
    "# define z_norm2 to be the SQUARE of the 2-norm distance to P\n",
    "# define z_norm1 to be the 1-norm distance to P\n",
    "# define z_norm_inf to be the inf-norm distance to P\n",
    "norm2 = Model(Ipopt.Optimizer)\n",
    "\n",
    "@variable(norm2, x[1:100])\n",
    "\n",
    "@constraint(norm2, A * x[1:100] .<= b)\n",
    "\n",
    "# solve the three models and print results.\n",
    "print(\"\\n************** norm2 **************\\n\")\n",
    "@objective(norm2, Min, sum((x.- x_hat).^2));\n",
    "optimize!(norm2);\n",
    "print(\"2-norm distance to P is \", sqrt(objective_value(norm2)))"
   ]
  },
  {
   "cell_type": "code",
   "execution_count": 4,
   "metadata": {},
   "outputs": [
    {
     "name": "stdout",
     "output_type": "stream",
     "text": [
      "\n",
      "************** norm1 **************\n",
      "Running HiGHS 1.4.2 [date: 1970-01-01, git hash: f797c1ab6]\n",
      "Copyright (c) 2022 ERGO-Code under MIT licence terms\n",
      "Presolving model\n",
      "220 rows, 200 cols, 2400 nonzeros\n",
      "220 rows, 200 cols, 2400 nonzeros\n",
      "Presolve : Reductions: rows 220(-0); columns 200(-0); elements 2400(-0) - Not reduced\n",
      "Problem not reduced by presolve: solving the LP\n",
      "Using EKK dual simplex solver - serial\n",
      "  Iteration        Objective     Infeasibilities num(sum)\n",
      "          0    -4.4400000000e+05 Ph1: 132(939807); Du: 100(444) 0s\n",
      "        265     2.9247679083e+00 Pr: 0(0) 0s\n",
      "Model   status      : Optimal\n",
      "Simplex   iterations: 265\n",
      "Objective value     :  2.9247679083e+00\n",
      "HiGHS run time      :          0.02\n",
      "1-norm distance to P is 2.924767908274003"
     ]
    }
   ],
   "source": [
    "norm1 = Model(HiGHS.Optimizer) \n",
    "\n",
    "@variable(norm1, t[1:100])\n",
    "@variable(norm1, x[1:100])\n",
    "\n",
    "@constraint(norm1, A * x[1:100] .<= b)\n",
    "for i = 1:100\n",
    "    @constraint(norm1, -t[i] <= x[i] - x_hat[i])\n",
    "    @constraint(norm1, x[i] - x_hat[i] <= t[i])\n",
    "end\n",
    "print(\"\\n************** norm1 **************\\n\")\n",
    "@objective(norm1, Min, sum(t))\n",
    "optimize!(norm1);\n",
    "print(\"1-norm distance to P is \", objective_value(norm1))\n",
    "# model for 1-norm projection"
   ]
  },
  {
   "cell_type": "code",
   "execution_count": 5,
   "metadata": {},
   "outputs": [
    {
     "name": "stdout",
     "output_type": "stream",
     "text": [
      "\n",
      "************** norm inf **************\n",
      "Running HiGHS 1.4.2 [date: 1970-01-01, git hash: f797c1ab6]\n",
      "Copyright (c) 2022 ERGO-Code under MIT licence terms\n",
      "Presolving model\n",
      "220 rows, 101 cols, 2400 nonzeros\n",
      "220 rows, 101 cols, 2400 nonzeros\n",
      "Presolve : Reductions: rows 220(-0); columns 101(-0); elements 2400(-0) - Not reduced\n",
      "Problem not reduced by presolve: solving the LP\n",
      "Using EKK dual simplex solver - serial\n",
      "  Iteration        Objective     Infeasibilities num(sum)\n",
      "          0    -4.0000000000e+03 Ph1: 172(957801); Du: 1(4) 0s\n",
      "        371     6.5941418166e-02 Pr: 0(0) 0s\n",
      "Model   status      : Optimal\n",
      "Simplex   iterations: 371\n",
      "Objective value     :  6.5941418166e-02\n",
      "HiGHS run time      :          0.01\n",
      "inf-norm distance to P is 0.06594141816600316\n",
      "**********************************\n"
     ]
    }
   ],
   "source": [
    "norm_inf = Model(HiGHS.Optimizer) \n",
    "\n",
    "@variable(norm_inf, y)\n",
    "@variable(norm_inf, x[1:100])\n",
    "\n",
    "@constraint(norm_inf, A * x[1:100] .<= b)\n",
    "for i = 1:100\n",
    "    @constraint(norm_inf, x[i] - x_hat[i] <= y)\n",
    "    @constraint(norm_inf, -y <= x[i] - x_hat[i])\n",
    "end\n",
    "print(\"\\n************** norm inf **************\\n\")\n",
    "@objective(norm_inf, Min, y)\n",
    "optimize!(norm_inf);\n",
    "print(\"inf-norm distance to P is \", objective_value(norm_inf))\n",
    "print(\"\\n**********************************\\n\")"
   ]
  },
  {
   "cell_type": "markdown",
   "metadata": {},
   "source": [
    "## For Q2\n",
    "### Eigenvectors and eigenvalues"
   ]
  },
  {
   "cell_type": "markdown",
   "metadata": {},
   "source": [
    "## Q2(a)"
   ]
  },
  {
   "cell_type": "code",
   "execution_count": 6,
   "metadata": {},
   "outputs": [
    {
     "data": {
      "text/plain": [
       "3-element Vector{Float64}:\n",
       " -1.0990195135927852\n",
       "  1.9999999999999998\n",
       "  9.099019513592784"
      ]
     },
     "execution_count": 6,
     "metadata": {},
     "output_type": "execute_result"
    }
   ],
   "source": [
    "using LinearAlgebra\n",
    "\n",
    "A = [2 2 -3; 2 6 -3; -3 -3 2]\n",
    "\n",
    "# use eigvals() to get the eigenvalues of a matrix\n",
    "eigvals(A)"
   ]
  },
  {
   "cell_type": "markdown",
   "metadata": {},
   "source": [
    "## Q2(b)"
   ]
  },
  {
   "cell_type": "code",
   "execution_count": 7,
   "metadata": {},
   "outputs": [
    {
     "data": {
      "text/plain": [
       "Eigen{Float64, Float64, Matrix{Float64}, Vector{Float64}}\n",
       "values:\n",
       "3-element Vector{Float64}:\n",
       " -1.0990195135927703\n",
       "  2.0000000000000036\n",
       "  9.099019513592784\n",
       "vectors:\n",
       "3×3 Matrix{Float64}:\n",
       " -0.641359  -0.639602  -0.423754\n",
       " -0.138236   0.639602  -0.756175\n",
       " -0.754685   0.426401   0.49863"
      ]
     },
     "execution_count": 7,
     "metadata": {},
     "output_type": "execute_result"
    }
   ],
   "source": [
    "# we can also use eigen() to obtain its eigenvalues and eigenvectors\n",
    "# here L is the array of eigen values, U is the matrix of eigenvectors\n",
    "(L, U) = eigen(A) "
   ]
  },
  {
   "cell_type": "code",
   "execution_count": 8,
   "metadata": {},
   "outputs": [
    {
     "name": "stdout",
     "output_type": "stream",
     "text": [
      "false\n"
     ]
    }
   ],
   "source": [
    "a = U * diagm(L) * U'\n",
    "println(A == a)"
   ]
  },
  {
   "cell_type": "markdown",
   "metadata": {},
   "source": [
    "The constraint (1) is not an ellipsoid because it contain the negative number."
   ]
  },
  {
   "cell_type": "markdown",
   "metadata": {},
   "source": [
    "## Q2(c)"
   ]
  },
  {
   "cell_type": "code",
   "execution_count": 9,
   "metadata": {},
   "outputs": [
    {
     "name": "stdout",
     "output_type": "stream",
     "text": [
      "||Av||^2 - ||Bv||^2 = 3.2069285433325563"
     ]
    }
   ],
   "source": [
    "v = randn(3, 1)\n",
    "x = 2.0000000000000036\n",
    "y = 9.099019513592784\n",
    "A = diagm([sqrt.(x), sqrt.(y)])*U[:,[2, 3]]'\n",
    "B = sqrt.(2)*U[:, 1]'\n",
    "print(\"||Av||^2 - ||Bv||^2 = \", norm(A*v)^2 - norm(B*v)^2)"
   ]
  },
  {
   "cell_type": "markdown",
   "metadata": {},
   "source": [
    "## Q2(d)"
   ]
  },
  {
   "cell_type": "code",
   "execution_count": 10,
   "metadata": {},
   "outputs": [
    {
     "name": "stdout",
     "output_type": "stream",
     "text": [
      "2x^2 + 6y^2 + 2z^2 + 4x*y - 6x*z - 6y*z <= -1.0990195135927847"
     ]
    }
   ],
   "source": [
    "x, y, z = U[:,1]\n",
    "print(\"2x^2 + 6y^2 + 2z^2 + 4x*y - 6x*z - 6y*z <= \", 2x^2 + 6y^2 + 2z^2 + 4x*y - 6x*z - 6y*z)"
   ]
  },
  {
   "cell_type": "markdown",
   "metadata": {},
   "source": [
    "The vector (x, y, z) that satisfies the constraint (1) because the answer of that formula is really less or equal than 1."
   ]
  },
  {
   "cell_type": "code",
   "execution_count": 11,
   "metadata": {},
   "outputs": [
    {
     "name": "stdout",
     "output_type": "stream",
     "text": [
      "x^2 + y^2 + z^2 = 1.0"
     ]
    }
   ],
   "source": [
    "print(\"x^2 + y^2 + z^2 = \", x^2 + y^2 + z^2)"
   ]
  },
  {
   "cell_type": "markdown",
   "metadata": {},
   "source": [
    "The vector (x,y,z) that has arbitrarily large magnitude because x^2 + y^2 + z^2 is really as large as you like, which is 1, the largest number that satisfies the condition."
   ]
  },
  {
   "cell_type": "markdown",
   "metadata": {},
   "source": [
    "## For Q3\n",
    "\n",
    "### 1. Plotting"
   ]
  },
  {
   "cell_type": "code",
   "execution_count": 12,
   "metadata": {
    "scrolled": true
   },
   "outputs": [
    {
     "data": {
      "image/png": "[encoded data removed]",
      "text/plain": [
       "Figure(PyObject <Figure size 640x480 with 1 Axes>)"
      ]
     },
     "metadata": {},
     "output_type": "display_data"
    }
   ],
   "source": [
    "using PyPlot, CSV, DataFrames\n",
    "\n",
    "data = CSV.read(\"lasso_data.csv\", DataFrame)\n",
    "x = data[:,1]\n",
    "y = data[:,2]\n",
    "plot(x, y, \".\");\n",
    "xlabel(\"x\"); ylabel(\"y\");\n",
    "n=size(data, 1);"
   ]
  },
  {
   "cell_type": "code",
   "execution_count": 13,
   "metadata": {},
   "outputs": [
    {
     "data": {
      "image/png": "[encoded data removed]",
      "text/plain": [
       "Figure(PyObject <Figure size 640x480 with 1 Axes>)"
      ]
     },
     "metadata": {},
     "output_type": "display_data"
    }
   ],
   "source": [
    "# plot a line on top of it\n",
    "\n",
    "f(x) = -6 * x + 1.8;\n",
    "\n",
    "# points of the line\n",
    "xs = range(0.1, 0.5, length=100);\n",
    "ys = f.(xs);\n",
    "\n",
    "\n",
    "# plot the scatters again\n",
    "plot(x, y, \".\");\n",
    "# plot the line\n",
    "plot(xs,ys,\"-\");\n",
    "title(string(\"polynomial fit (deg=\", 1, \") using ordinary least squares\")); # it is not!\n",
    "xlabel(\"x\"); ylabel(\"y\");"
   ]
  },
  {
   "cell_type": "markdown",
   "metadata": {},
   "source": [
    "## Q3(a)"
   ]
  },
  {
   "cell_type": "code",
   "execution_count": 14,
   "metadata": {},
   "outputs": [
    {
     "data": {
      "image/png": "[encoded data removed]",
      "text/plain": [
       "Figure(PyObject <Figure size 640x480 with 1 Axes>)"
      ]
     },
     "metadata": {},
     "output_type": "display_data"
    },
    {
     "data": {
      "text/plain": [
       "PyObject <matplotlib.legend.Legend object at 0x0000022614B8A320>"
      ]
     },
     "execution_count": 14,
     "metadata": {},
     "output_type": "execute_result"
    }
   ],
   "source": [
    "data = CSV.read(\"lasso_data.csv\", DataFrame)\n",
    "x = data[:,1]\n",
    "y = data[:,2]\n",
    "plot(x, y, \".\", label=\"Data\")\n",
    "xlabel(\"x\"); ylabel(\"y\");\n",
    "\n",
    "# Create the design matrix for polynomial regression\n",
    "function design_matrix(x, degree)\n",
    "    X = ones(length(x), degree+1)\n",
    "    for i = 1:degree\n",
    "        X[:,i+1] = x.^i\n",
    "    end\n",
    "    return X\n",
    "end\n",
    "\n",
    "# Fit a polynomial of degree 5\n",
    "degree_5 = 5\n",
    "X_5 = design_matrix(x, degree_5)\n",
    "β_5 = X_5 \\ y\n",
    "y_5 = X_5 * β_5\n",
    "plot(x, y_5, \"-\", label=\"Degree 5\")\n",
    "\n",
    "# Fit a polynomial of degree 15\n",
    "degree_15 = 15\n",
    "X_15 = design_matrix(x, degree_15)\n",
    "β_15 = X_15 \\ y\n",
    "y_15 = X_15 * β_15\n",
    "plot(x, y_15, \"-\", label=\"Degree 15\")\n",
    "legend(loc=\"best\")"
   ]
  },
  {
   "cell_type": "markdown",
   "metadata": {},
   "source": [
    "## Q3(b)"
   ]
  },
  {
   "cell_type": "code",
   "execution_count": 15,
   "metadata": {},
   "outputs": [
    {
     "name": "stdout",
     "output_type": "stream",
     "text": [
      "Running HiGHS 1.4.2 [date: 1970-01-01, git hash: f797c1ab6]\n",
      "Copyright (c) 2022 ERGO-Code under MIT licence terms\n",
      "WARNING: LP matrix packed vector contains 6 |values| in [5.25848e-15, 3.02394e-10] less than or equal to 1e-09: ignored\n",
      "WARNING: LP matrix packed vector contains 6 |values| in [1.30555e-14, 5.54451e-10] less than or equal to 1e-09: ignored\n",
      "WARNING: LP matrix packed vector contains 6 |values| in [3.07714e-14, 9.81971e-10] less than or equal to 1e-09: ignored\n",
      "WARNING: LP matrix packed vector contains 5 |values| in [6.92412e-14, 2.23666e-10] less than or equal to 1e-09: ignored\n",
      "WARNING: LP matrix packed vector contains 5 |values| in [1.49455e-13, 3.93225e-10] less than or equal to 1e-09: ignored\n",
      "WARNING: LP matrix packed vector contains 5 |values| in [3.10706e-13, 6.72548e-10] less than or equal to 1e-09: ignored\n",
      "WARNING: LP matrix packed vector contains 4 |values| in [6.2431e-13, 1.72314e-10] less than or equal to 1e-09: ignored\n",
      "WARNING: LP matrix packed vector contains 4 |values| in [1.21612e-12, 2.93753e-10] less than or equal to 1e-09: ignored\n",
      "WARNING: LP matrix packed vector contains 4 |values| in [2.30266e-12, 4.89534e-10] less than or equal to 1e-09: ignored\n",
      "WARNING: LP matrix packed vector contains 4 |values| in [4.24777e-12, 7.98966e-10] less than or equal to 1e-09: ignored\n",
      "WARNING: LP matrix packed vector contains 3 |values| in [7.64999e-12, 2.32188e-10] less than or equal to 1e-09: ignored\n",
      "WARNING: LP matrix packed vector contains 3 |values| in [1.34746e-11, 3.7924e-10] less than or equal to 1e-09: ignored\n",
      "WARNING: LP matrix packed vector contains 3 |values| in [2.32504e-11, 6.08471e-10] less than or equal to 1e-09: ignored\n",
      "WARNING: LP matrix packed vector contains 3 |values| in [3.93578e-11, 9.60195e-10] less than or equal to 1e-09: ignored\n",
      "WARNING: LP matrix packed vector contains 2 |values| in [6.54454e-11, 3.12479e-10] less than or equal to 1e-09: ignored\n",
      "WARNING: LP matrix packed vector contains 2 |values| in [1.07025e-10, 4.94523e-10] less than or equal to 1e-09: ignored\n",
      "WARNING: LP matrix packed vector contains 2 |values| in [1.7231e-10, 7.71299e-10] less than or equal to 1e-09: ignored\n",
      "WARNING: LP matrix packed vector contains 1 |values| in [2.73382e-10, 2.73382e-10] less than or equal to 1e-09: ignored\n",
      "WARNING: LP matrix packed vector contains 1 |values| in [4.27803e-10, 4.27803e-10] less than or equal to 1e-09: ignored\n",
      "WARNING: LP matrix packed vector contains 1 |values| in [6.60817e-10, 6.60817e-10] less than or equal to 1e-09: ignored\n",
      "WARNING: LP matrix packed vector contains 6 |values| in [5.25848e-15, 3.02394e-10] less than or equal to 1e-09: ignored\n",
      "WARNING: LP matrix packed vector contains 6 |values| in [1.30555e-14, 5.54451e-10] less than or equal to 1e-09: ignored\n",
      "WARNING: LP matrix packed vector contains 6 |values| in [3.07714e-14, 9.81971e-10] less than or equal to 1e-09: ignored\n",
      "WARNING: LP matrix packed vector contains 5 |values| in [6.92412e-14, 2.23666e-10] less than or equal to 1e-09: ignored\n",
      "WARNING: LP matrix packed vector contains 5 |values| in [1.49455e-13, 3.93225e-10] less than or equal to 1e-09: ignored\n",
      "WARNING: LP matrix packed vector contains 5 |values| in [3.10706e-13, 6.72548e-10] less than or equal to 1e-09: ignored\n",
      "WARNING: LP matrix packed vector contains 4 |values| in [6.2431e-13, 1.72314e-10] less than or equal to 1e-09: ignored\n",
      "WARNING: LP matrix packed vector contains 4 |values| in [1.21612e-12, 2.93753e-10] less than or equal to 1e-09: ignored\n",
      "WARNING: LP matrix packed vector contains 4 |values| in [2.30266e-12, 4.89534e-10] less than or equal to 1e-09: ignored\n",
      "WARNING: LP matrix packed vector contains 4 |values| in [4.24777e-12, 7.98966e-10] less than or equal to 1e-09: ignored\n",
      "WARNING: LP matrix packed vector contains 3 |values| in [7.64999e-12, 2.32188e-10] less than or equal to 1e-09: ignored\n",
      "WARNING: LP matrix packed vector contains 3 |values| in [1.34746e-11, 3.7924e-10] less than or equal to 1e-09: ignored\n",
      "WARNING: LP matrix packed vector contains 3 |values| in [2.32504e-11, 6.08471e-10] less than or equal to 1e-09: ignored\n",
      "WARNING: LP matrix packed vector contains 3 |values| in [3.93578e-11, 9.60195e-10] less than or equal to 1e-09: ignored\n",
      "WARNING: LP matrix packed vector contains 2 |values| in [6.54454e-11, 3.12479e-10] less than or equal to 1e-09: ignored\n",
      "WARNING: LP matrix packed vector contains 2 |values| in [1.07025e-10, 4.94523e-10] less than or equal to 1e-09: ignored\n",
      "WARNING: LP matrix packed vector contains 2 |values| in [1.7231e-10, 7.71299e-10] less than or equal to 1e-09: ignored\n",
      "WARNING: LP matrix packed vector contains 1 |values| in [2.73382e-10, 2.73382e-10] less than or equal to 1e-09: ignored\n",
      "WARNING: LP matrix packed vector contains 1 |values| in [4.27803e-10, 4.27803e-10] less than or equal to 1e-09: ignored\n",
      "WARNING: LP matrix packed vector contains 1 |values| in [6.60817e-10, 6.60817e-10] less than or equal to 1e-09: ignored\n",
      "0, 38.919304, 16, 0.004001, 0.000000, 0, 0.000000, 0.000000\n",
      "123, 1.022678, 16, 0.008002, 0.000000, 0, 0.000000, 1.000000\n",
      "Model   status      : Optimal\n",
      "QP ASM    iterations: 123\n",
      "Objective value     :  1.0223298232e+00\n",
      "HiGHS run time      :          0.01\n"
     ]
    },
    {
     "data": {
      "image/png": "[encoded data removed]",
      "text/plain": [
       "Figure(PyObject <Figure size 640x480 with 1 Axes>)"
      ]
     },
     "metadata": {},
     "output_type": "display_data"
    },
    {
     "data": {
      "text/plain": [
       "PyObject <matplotlib.legend.Legend object at 0x0000022614B64160>"
      ]
     },
     "execution_count": 15,
     "metadata": {},
     "output_type": "execute_result"
    }
   ],
   "source": [
    "lambda = 10^(-6)\n",
    "\n",
    "A = [x[i]^(16-j) for i in 1:length(x), j in 1:16]\n",
    "\n",
    "m = Model(HiGHS.Optimizer)\n",
    "\n",
    "@variable(m, 0 <= slack[1:n])\n",
    "@variable(m, coeff[1:16])\n",
    "\n",
    "@constraint(m, y - A*coeff .>= -slack)\n",
    "@constraint(m, y - A*coeff .<= slack)\n",
    "\n",
    "@objective(m, Min, lambda * sum(coeff.^2) + sum(slack.^2))\n",
    "\n",
    "optimize!(m)\n",
    "\n",
    "ffine = ones(100)\n",
    "x_matrix = range(0.1, stop= 0.5, length = 100)\n",
    "for i = 1:15\n",
    "    ffine = [ffine .* x_matrix ones(100)]\n",
    "end\n",
    "\n",
    "y_matrix = ffine * value.(coeff)\n",
    "\n",
    "figure()\n",
    "plot(x, y, \".\", label = \"Data\")\n",
    "plot(x_matrix, y_matrix, label = \"Degree 15\")\n",
    "xlabel(\"x\")\n",
    "ylabel(\"y\")\n",
    "title(\"Polynomial Fit (deg = 15) using L2 regularization\")\n",
    "legend(loc=\"best\")"
   ]
  },
  {
   "cell_type": "markdown",
   "metadata": {},
   "source": [
    "## Q3(c)"
   ]
  },
  {
   "cell_type": "code",
   "execution_count": 17,
   "metadata": {},
   "outputs": [
    {
     "name": "stdout",
     "output_type": "stream",
     "text": [
      "This is Ipopt version 3.14.4, running with linear solver MUMPS 5.5.1.\n",
      "\n",
      "Number of nonzeros in equality constraint Jacobian...:        0\n",
      "Number of nonzeros in inequality constraint Jacobian.:     2104\n",
      "Number of nonzeros in Lagrangian Hessian.............:       60\n",
      "\n",
      "Total number of variables............................:       92\n",
      "                     variables with only lower bounds:       60\n",
      "                variables with lower and upper bounds:        0\n",
      "                     variables with only upper bounds:        0\n",
      "Total number of equality constraints.................:        0\n",
      "Total number of inequality constraints...............:      152\n",
      "        inequality constraints with only lower bounds:       60\n",
      "   inequality constraints with lower and upper bounds:        0\n",
      "        inequality constraints with only upper bounds:       92\n",
      "\n",
      "iter    objective    inf_pr   inf_du lg(mu)  ||d||  lg(rg) alpha_du alpha_pr  ls\n",
      "   0  5.9999880e-03 1.33e+00 9.93e-01  -1.0 0.00e+00    -  0.00e+00 0.00e+00   0\n",
      "   1  1.2431559e-02 1.32e+00 1.04e+00  -1.0 1.06e+00    -  1.02e-02 1.15e-02f  1\n",
      "   2  2.8038095e-02 1.29e+00 1.74e+00  -1.0 7.86e+00    -  7.83e-03 2.12e-02f  1\n",
      "   3  3.7276562e+00 2.05e-01 7.59e+00  -1.0 1.00e+01    -  4.18e-02 8.13e-01f  1\n",
      "   4  6.7826953e+00 0.00e+00 2.16e+00  -1.0 1.28e+00    -  2.03e-01 7.61e-01f  1\n",
      "   5  8.7347872e+00 0.00e+00 6.93e-01  -1.0 7.58e-01    -  6.48e-01 1.00e+00f  1\n",
      "   6  5.9753426e+00 0.00e+00 1.15e-01  -1.7 1.15e+00    -  8.86e-01 8.52e-01f  1\n",
      "   7  3.3927855e+00 0.00e+00 4.83e-02  -2.5 9.72e-01    -  5.91e-01 9.53e-01f  1\n",
      "   8  2.5881826e+00 0.00e+00 1.42e-01  -2.5 2.31e+01    -  1.34e-01 8.75e-01f  1\n",
      "   9  2.0426101e+00 0.00e+00 1.69e-01  -2.5 9.54e+01    -  1.93e-01 3.51e-01f  1\n",
      "iter    objective    inf_pr   inf_du lg(mu)  ||d||  lg(rg) alpha_du alpha_pr  ls\n",
      "  10  1.8601900e+00 0.00e+00 1.72e-01  -2.5 3.62e+01    -  1.96e-01 1.00e+00f  1\n",
      "  11  1.7507956e+00 0.00e+00 1.09e-01  -2.5 3.48e+02    -  4.34e-01 1.46e-01f  1\n",
      "  12  1.3670110e+00 0.00e+00 4.38e-02  -2.5 5.66e+01    -  4.12e-01 5.54e-01f  1\n",
      "  13  1.2579085e+00 0.00e+00 4.19e-02  -2.5 2.18e+02    -  4.43e-01 5.89e-01f  1\n",
      "  14  1.2162589e+00 0.00e+00 6.33e-02  -2.5 7.50e+01    -  5.50e-01 1.00e+00f  1\n",
      "  15  1.2279919e+00 0.00e+00 4.72e-03  -2.5 2.00e+01    -  9.16e-01 1.00e+00f  1\n",
      "  16  1.0532165e+00 0.00e+00 9.43e-03  -3.8 2.05e+01    -  6.45e-01 9.39e-01f  1\n",
      "  17  1.0378526e+00 0.00e+00 1.99e-03  -3.8 9.69e+01    -  6.85e-01 5.90e-01f  1\n",
      "  18  1.0256025e+00 0.00e+00 4.20e-03  -3.8 1.93e+02    -  5.61e-01 1.00e+00f  1\n",
      "  19  1.0248469e+00 0.00e+00 2.60e-03  -3.8 4.83e+02    -  8.65e-01 1.00e+00f  1\n",
      "iter    objective    inf_pr   inf_du lg(mu)  ||d||  lg(rg) alpha_du alpha_pr  ls\n",
      "  20  1.0271017e+00 0.00e+00 2.57e-03  -3.8 5.00e+02    -  6.07e-01 1.00e+00f  1\n",
      "  21  1.0271644e+00 0.00e+00 8.15e-03  -3.8 1.03e+04    -  6.05e-01 5.15e-02f  2\n",
      "  22  1.0273618e+00 0.00e+00 4.33e-03  -3.8 1.19e+03    -  1.00e+00 2.63e-01f  2\n",
      "  23  1.0281235e+00 0.00e+00 1.50e-09  -3.8 2.31e+02    -  1.00e+00 1.00e+00f  1\n",
      "  24  1.0159618e+00 0.00e+00 7.63e-04  -5.7 4.16e+02    -  1.00e+00 8.64e-01f  1\n",
      "  25  1.0145359e+00 0.00e+00 1.87e-04  -5.7 9.59e+01    -  7.72e-01 7.68e-01f  1\n",
      "  26  1.0141313e+00 0.00e+00 1.55e-04  -5.7 1.07e+02    -  8.25e-01 9.06e-01f  1\n",
      "  27  1.0140778e+00 0.00e+00 1.84e-11  -5.7 1.58e+02    -  1.00e+00 1.00e+00f  1\n",
      "  28  1.0139265e+00 0.00e+00 2.20e-05  -8.6 5.58e+01    -  9.06e-01 9.34e-01f  1\n",
      "  29  1.0139183e+00 0.00e+00 9.52e-05  -8.6 3.26e+01    -  9.87e-01 7.19e-01f  1\n",
      "iter    objective    inf_pr   inf_du lg(mu)  ||d||  lg(rg) alpha_du alpha_pr  ls\n",
      "  30  1.0139150e+00 0.00e+00 2.51e-14  -8.6 1.08e+01    -  1.00e+00 1.00e+00f  1\n",
      "  31  1.0139150e+00 0.00e+00 2.51e-14  -8.6 3.48e-02    -  1.00e+00 1.00e+00h  1\n",
      "  32  1.0139148e+00 0.00e+00 9.20e-15  -9.0 1.22e-01    -  1.00e+00 1.00e+00h  1\n",
      "\n",
      "Number of Iterations....: 32\n",
      "\n",
      "                                   (scaled)                 (unscaled)\n",
      "Objective...............:   1.0139148049679694e+00    1.0139148049679694e+00\n",
      "Dual infeasibility......:   9.1985096534250855e-15    9.1985096534250855e-15\n",
      "Constraint violation....:   0.0000000000000000e+00    0.0000000000000000e+00\n",
      "Variable bound violation:   0.0000000000000000e+00    0.0000000000000000e+00\n",
      "Complementarity.........:   4.8027736847466380e-09    4.8027736847466380e-09\n",
      "Overall NLP error.......:   4.8027736847466380e-09    4.8027736847466380e-09\n",
      "\n",
      "\n",
      "Number of objective function evaluations             = 38\n",
      "Number of objective gradient evaluations             = 33\n",
      "Number of equality constraint evaluations            = 0\n",
      "Number of inequality constraint evaluations          = 38\n",
      "Number of equality constraint Jacobian evaluations   = 0\n",
      "Number of inequality constraint Jacobian evaluations = 1\n",
      "Number of Lagrangian Hessian evaluations             = 1\n",
      "Total seconds in IPOPT                               = 0.100\n",
      "\n",
      "EXIT: Optimal Solution Found.\n"
     ]
    },
    {
     "data": {
      "image/png": "[encoded data removed]",
      "text/plain": [
       "Figure(PyObject <Figure size 640x480 with 1 Axes>)"
      ]
     },
     "metadata": {},
     "output_type": "display_data"
    },
    {
     "data": {
      "text/plain": [
       "PyObject <matplotlib.legend.Legend object at 0x00000226212EC2B0>"
      ]
     },
     "execution_count": 17,
     "metadata": {},
     "output_type": "execute_result"
    }
   ],
   "source": [
    "using Ipopt\n",
    "\n",
    "lambda = 10^(-6)\n",
    "\n",
    "A = [x[i]^(16-j) for i in 1:length(x), j in 1:16]\n",
    "\n",
    "m = Model(Ipopt.Optimizer)\n",
    "@variable(m, u[1:16])\n",
    "@variable(m, 0 <= t[1:n])\n",
    "@variable(m, r[1:16])\n",
    "\n",
    "@constraint(m, y - A*u .<= t)\n",
    "@constraint(m, y - A*u .>= -t)\n",
    "@constraint(m, u .<= r)\n",
    "@constraint(m, -u .<= r)\n",
    "\n",
    "@objective(m, Min, sum(t.^2) + lambda * sum(r) )\n",
    "optimize!(m)\n",
    "\n",
    "\n",
    "x_matrix = range(0.1,stop= 0.5, length = 100)\n",
    "ffine = ones(100)\n",
    "for j = 1:15\n",
    "    ffine = [ffine.*x_matrix ones(100)]\n",
    "end\n",
    "y_matrix = ffine * value.(u)\n",
    "\n",
    "figure()\n",
    "plot(x, y, \".\", label = \"Data\")\n",
    "plot(x_matrix, y_matrix)\n",
    "xlabel(\"x\")\n",
    "ylabel(\"y\")\n",
    "title(\"Polynomial Fit (deg = 15) using L1 regularization\")\n",
    "legend()"
   ]
  }
 ],
 "metadata": {
  "kernelspec": {
   "display_name": "Julia 1.8.5",
   "language": "julia",
   "name": "julia-1.8"
  },
  "language_info": {
   "file_extension": ".jl",
   "mimetype": "application/julia",
   "name": "julia",
   "version": "1.8.5"
  }
 },
 "nbformat": 4,
 "nbformat_minor": 4
}
