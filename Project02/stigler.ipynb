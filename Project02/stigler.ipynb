{
 "cells": [
  {
   "cell_type": "markdown",
   "metadata": {},
   "source": [
    "## Stigler Diet Problem: Starter Code"
   ]
  },
  {
   "cell_type": "code",
   "execution_count": 1,
   "metadata": {},
   "outputs": [
    {
     "name": "stderr",
     "output_type": "stream",
     "text": [
      "\u001b[32m\u001b[1m    Updating\u001b[22m\u001b[39m registry at `C:\\Users\\16084\\.julia\\registries\\General.toml`\n",
      "\u001b[32m\u001b[1m   Resolving\u001b[22m\u001b[39m package versions...\n",
      "\u001b[32m\u001b[1m  No Changes\u001b[22m\u001b[39m to `C:\\Users\\16084\\.julia\\environments\\v1.8\\Project.toml`\n",
      "\u001b[32m\u001b[1m  No Changes\u001b[22m\u001b[39m to `C:\\Users\\16084\\.julia\\environments\\v1.8\\Manifest.toml`\n",
      "\u001b[32m\u001b[1m   Resolving\u001b[22m\u001b[39m package versions...\n",
      "\u001b[32m\u001b[1m  No Changes\u001b[22m\u001b[39m to `C:\\Users\\16084\\.julia\\environments\\v1.8\\Project.toml`\n",
      "\u001b[32m\u001b[1m  No Changes\u001b[22m\u001b[39m to `C:\\Users\\16084\\.julia\\environments\\v1.8\\Manifest.toml`\n",
      "\u001b[32m\u001b[1m   Resolving\u001b[22m\u001b[39m package versions...\n",
      "\u001b[32m\u001b[1m  No Changes\u001b[22m\u001b[39m to `C:\\Users\\16084\\.julia\\environments\\v1.8\\Project.toml`\n",
      "\u001b[32m\u001b[1m  No Changes\u001b[22m\u001b[39m to `C:\\Users\\16084\\.julia\\environments\\v1.8\\Manifest.toml`\n",
      "\u001b[32m\u001b[1m   Resolving\u001b[22m\u001b[39m package versions...\n",
      "\u001b[32m\u001b[1m  No Changes\u001b[22m\u001b[39m to `C:\\Users\\16084\\.julia\\environments\\v1.8\\Project.toml`\n",
      "\u001b[32m\u001b[1m  No Changes\u001b[22m\u001b[39m to `C:\\Users\\16084\\.julia\\environments\\v1.8\\Manifest.toml`\n"
     ]
    }
   ],
   "source": [
    "using Pkg\n",
    "Pkg.add(\"CSV\")\n",
    "Pkg.add(\"DataFrames\")\n",
    "Pkg.add(\"NamedArrays\")\n",
    "Pkg.add(\"LinearAlgebra\")"
   ]
  },
  {
   "cell_type": "code",
   "execution_count": 2,
   "metadata": {},
   "outputs": [
    {
     "data": {
      "text/plain": [
       "false"
      ]
     },
     "execution_count": 2,
     "metadata": {},
     "output_type": "execute_result"
    }
   ],
   "source": [
    "#Question 1\n",
    "\n",
    "project1=3\n",
    "project1_worker=8\n",
    "x=project1_worker/project1\n",
    "\n",
    "project2=4\n",
    "project2_worker=10\n",
    "y=project2_worker/project2\n",
    "\n",
    "project3=2\n",
    "project3_worker=12\n",
    "z=project3_worker/project3\n",
    "\n",
    "if (x>=6 || y>=6 || z>=6)\n",
    "    return false\n",
    "elseif (x+y+z)>8\n",
    "    return false\n",
    "else\n",
    "    return true\n",
    "end"
   ]
  },
  {
   "cell_type": "code",
   "execution_count": 3,
   "metadata": {},
   "outputs": [],
   "source": [
    "# Therefore, these project can not be completed in these months."
   ]
  },
  {
   "cell_type": "code",
   "execution_count": 4,
   "metadata": {},
   "outputs": [
    {
     "name": "stdout",
     "output_type": "stream",
     "text": [
      "Foods:\n",
      "\n",
      "Wheat Flour (Enriched)\n",
      "Macaroni\n",
      "Wheat Cereal (Enriched)\n",
      "Corn Flakes\n",
      "Corn Meal\n",
      "Hominy Grits\n",
      "Rice\n",
      "Rolled Oats\n",
      "White Bread (Enriched)\n",
      "Whole Wheat Bread\n",
      "Rye Bread\n",
      "Pound Cake\n",
      "Soda Crackers\n",
      "Milk\n",
      "Evaporated Milk (can)\n",
      "Butter\n",
      "Oleomargarine\n",
      "Eggs\n",
      "Cheese (Cheddar)\n",
      "Cream\n",
      "Peanut Butter\n",
      "Mayonnaise\n",
      "Crisco\n",
      "Lard\n",
      "Sirloin Steak\n",
      "Round Steak\n",
      "Rib Roast\n",
      "Chuck Roast\n",
      "Plate\n",
      "Liver (Beef)\n",
      "Leg of Lamb\n",
      "Lamb Chops (Rib)\n",
      "Pork Chops\n",
      "Pork Loin Roast\n",
      "Bacon\n",
      "Ham, smoked\n",
      "Salt Pork\n",
      "Roasting Chicken\n",
      "Veal Cutlets\n",
      "Salmon, Pink (can)\n",
      "Apples\n",
      "Bananas\n",
      "Lemons\n",
      "Oranges\n",
      "Green Beans\n",
      "Cabbage\n",
      "Carrots\n",
      "Celery\n",
      "Lettuce\n",
      "Onions\n",
      "Potatoes\n",
      "Spinach\n",
      "Sweet Potatoes\n",
      "Peaches (can)\n",
      "Pears (can)\n",
      "Pineapple (can)\n",
      "Asparagus (can)\n",
      "Green Beans (can)\n",
      "Pork and Beans (can)\n",
      "Corn (can)\n",
      "Peas (can)\n",
      "Tomatoes (can)\n",
      "Tomato Soup (can)\n",
      "Peaches, Dried\n",
      "Prunes, Dried\n",
      "Raisins, Dried\n",
      "Peas, Dried\n",
      "Lima Beans, Dried\n",
      "Navy Beans, Dried\n",
      "Coffee\n",
      "Tea\n",
      "Cocoa\n",
      "Chocolate\n",
      "Sugar\n",
      "Corn Syrup\n",
      "Molasses\n",
      "Strawberry Preserves\n",
      "\n",
      "\n",
      "Nutrient Lower Bounds:\n",
      "\n",
      "Calories (1000) at least: 3.0\n",
      "Protein (g) at least: 70\n",
      "Calcium (g) at least: 0.8\n",
      "Iron (mg) at least: 12\n",
      "Vitamin A (1000 IU) at least: 5.0\n",
      "Thiamine (mg) at least: 1.8\n",
      "Riboflavin (mg) at least: 2.7\n",
      "Niacin (mg) at least: 18\n",
      "Ascorbic Acid (mg) at least: 75\n"
     ]
    }
   ],
   "source": [
    "# STARTER CODE FOR STIGLER'S DIET PROBLEM\n",
    "\n",
    "using NamedArrays, CSV, DataFrames\n",
    "\n",
    "raw = CSV.read(\"stigler.csv\", DataFrame);\n",
    "(m,n) = size(raw)\n",
    "\n",
    "n_nutrients = 2:n      # columns containing nutrients\n",
    "n_foods = 3:m          # rows containing food names\n",
    "\n",
    "\n",
    "foods = raw[2:end,1]\n",
    "nutrients = [string(names(raw)[i]) for i=2:length(names(raw))]\n",
    "\n",
    "lower = Dict( zip(nutrients,raw[1,n_nutrients]) )\n",
    "\n",
    "dataraw = Matrix(values(raw[2:end,2:end]))\n",
    "data = NamedArray(dataraw,(foods,nutrients),(\"foods\",\"nutrients\"))\n",
    "                \n",
    "        \n",
    "println(\"Foods:\\n\")\n",
    "for i in foods\n",
    "    println(i)\n",
    "end\n",
    "\n",
    "\n",
    "println(\"\\n\\nNutrient Lower Bounds:\\n\")\n",
    "for j in nutrients\n",
    "    println(j,\" at least: \",lower[j])\n",
    "end"
   ]
  },
  {
   "cell_type": "code",
   "execution_count": 5,
   "metadata": {},
   "outputs": [],
   "source": [
    "#=\n",
    "Question 2 (a)\n",
    "\n",
    "The decision variables represent the quantity of each food item that needs to be included in the optimal diet.\n",
    "Xi = quantity of food i.\n",
    "i>=1, i<=n\n",
    "n = number of food\n",
    "\n",
    "The constraints represent the nutritional requirements of the diet, which can be expressed as linear inequalities. \n",
    "There are several nutritional requirements, such as a minimum intake of calories, protein, vitamins, etc.\n",
    "The requirement of calories: sum of limits({i=1}^{n}*Xi)\n",
    "\n",
    "The objective of the optimization problem is to minimize the cost of the diet, which can be expressed as a linear \n",
    "function of the decision variables.\n",
    "Minimize the total cost of the diet: sum of limits({i=1}^{m}*pi*Xi)\n",
    "\n",
    "=#"
   ]
  },
  {
   "cell_type": "code",
   "execution_count": 6,
   "metadata": {},
   "outputs": [
    {
     "name": "stdout",
     "output_type": "stream",
     "text": [
      "Optimal diet:\n",
      "  Wheat Flour (Enriched): 0.02951906167648827\n",
      "  Liver (Beef): 0.001892557290705264\n",
      "  Cabbage: 0.01121443524614487\n",
      "  Spinach: 0.0050076604667252025\n",
      "  Navy Beans, Dried: 0.06102856352669324\n"
     ]
    }
   ],
   "source": [
    "#Question 2 (b)\n",
    "using JuMP, CSV, DataFrames, HiGHS\n",
    "\n",
    "data = CSV.read(\"stigler.csv\", DataFrame, header=1)\n",
    "\n",
    "A = Matrix(data[:, 2:end])\n",
    "c = data[1, 2:end]\n",
    "\n",
    "model = Model(HiGHS.Optimizer)\n",
    "\n",
    "set_silent(model)\n",
    "\n",
    "@variable(model, x[1:size(A, 1)] >= 0)\n",
    "@constraint(model, [j=1:size(A, 2)], sum(A[i,j]*x[i] for i=1:size(A,1)) >= c[j])\n",
    "\n",
    "@objective(model, Min, sum(x))\n",
    "\n",
    "optimize!(model)\n",
    "\n",
    "println(\"Optimal diet:\")\n",
    "for i=1:size(A, 1)\n",
    "    if value(x[i]) > 0\n",
    "        println(\"  \", data[i, 1], \": \", value(x[i]))\n",
    "    end\n",
    "end"
   ]
  },
  {
   "cell_type": "code",
   "execution_count": 7,
   "metadata": {},
   "outputs": [],
   "source": [
    "#=\n",
    "Question 3(a)\n",
    "\n",
    "r = radius\n",
    "\n",
    "x >= r + 75\n",
    "y >= r + 75\n",
    "600 - x >= r + 75\n",
    "500 - y >= r + 75\n",
    "r >= 0\n",
    "\n",
    "=#"
   ]
  },
  {
   "cell_type": "code",
   "execution_count": 8,
   "metadata": {},
   "outputs": [
    {
     "name": "stdout",
     "output_type": "stream",
     "text": [
      "HiGHS LP solver terminated with status OPTIMAL\n",
      "The coordinates of the Chebyshev center are: [244.02852679380183, 244.0285267938019]\n",
      "The largest possible radius is: 169.0285267938019\n"
     ]
    }
   ],
   "source": [
    "#Question 3 (b)\n",
    "A = [2/3 1; 3 -1; 0 1; -1 0; 0 -1];\n",
    "b = [700; 1500; 500; 0; 0]\n",
    "\n",
    "using JuMP, HiGHS, LinearAlgebra\n",
    "\n",
    "m = Model(HiGHS.Optimizer)\n",
    "set_silent(m)\n",
    "@variable(m, r >= 0)           # radius of the sphere\n",
    "@variable(m, x[1:2]>=0)           # coordinates of center\n",
    "for i = 1:size(A,1)\n",
    "    @constraint(m, A[i,:]'*x + (75+r)*norm(A[i,:]) <= b[i])\n",
    "end\n",
    "@objective(m, Max, r)     # maximize radius of the sphere\n",
    "\n",
    "optimize!(m)\n",
    "center = value.(x)\n",
    "radius = value(r)\n",
    "\n",
    "println(\"HiGHS LP solver terminated with status \", termination_status(m))\n",
    "println(\"The coordinates of the Chebyshev center are: \", center)\n",
    "println(\"The largest possible radius is: \", radius)"
   ]
  },
  {
   "cell_type": "code",
   "execution_count": 14,
   "metadata": {},
   "outputs": [
    {
     "data": {
      "image/png": "[encoded data removed]",
      "text/plain": [
       "Figure(PyObject <Figure size 600x500 with 1 Axes>)"
      ]
     },
     "metadata": {},
     "output_type": "display_data"
    },
    {
     "data": {
      "text/plain": [
       "PyObject <matplotlib.patches.Circle object at 0x000002341F4F3B20>"
      ]
     },
     "execution_count": 14,
     "metadata": {},
     "output_type": "execute_result"
    }
   ],
   "source": [
    "using PyPlot\n",
    "\n",
    "function plot_site(m)\n",
    "    plot([0, 0], [0, 500], \"b-\")\n",
    "    plot([0, 500], [0, 0], \"b-\")\n",
    "    plot([500, 600], [0, 300], \"b-\")\n",
    "    plot([300, 600], [500, 300], \"b-\")\n",
    "    plot([0, 300], [500, 500], \"b-\")\n",
    "    axis(\"image\")\n",
    "    axis([-0.5, 6.5, -0.5, 5.5]*100)\n",
    "    grid()\n",
    "end\n",
    "\n",
    "figure(figsize=(6, 5))\n",
    "plot_site(1)\n",
    "circle = plt.Circle((244.02852679380183, 244.0285267938019), radius = 169.0285267938019, fill=false, color = \"red\")\n",
    "plt.gca().add_patch(circle)"
   ]
  }
 ],
 "metadata": {
  "kernelspec": {
   "display_name": "Julia 1.8.5",
   "language": "julia",
   "name": "julia-1.8"
  },
  "language_info": {
   "file_extension": ".jl",
   "mimetype": "application/julia",
   "name": "julia",
   "version": "1.8.5"
  }
 },
 "nbformat": 4,
 "nbformat_minor": 1
}
