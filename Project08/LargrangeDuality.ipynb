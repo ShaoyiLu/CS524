{
 "cells": [
  {
   "attachments": {},
   "cell_type": "markdown",
   "id": "cd2dfe03",
   "metadata": {},
   "source": [
    "## Largrange Duality"
   ]
  },
  {
   "attachments": {},
   "cell_type": "markdown",
   "id": "55fe2015",
   "metadata": {},
   "source": [
    "## Q1(a)"
   ]
  },
  {
   "cell_type": "code",
   "execution_count": 8,
   "id": "f5c651e6",
   "metadata": {
    "scrolled": true
   },
   "outputs": [],
   "source": [
    "using Ipopt, JuMP;"
   ]
  },
  {
   "cell_type": "code",
   "execution_count": 9,
   "id": "e154f949",
   "metadata": {},
   "outputs": [
    {
     "name": "stdout",
     "output_type": "stream",
     "text": [
      "p* = 0.5\n"
     ]
    }
   ],
   "source": [
    "m = Model(Ipopt.Optimizer)\n",
    "set_silent(m)\n",
    "\n",
    "x = @variable(m, [1:2, 1:1])\n",
    "\n",
    "@constraint(m, 1 <= x[1])\n",
    "\n",
    "@objective(m, Min, (x[1]^2 + x[2]^2)/2)\n",
    "\n",
    "optimize!(m)\n",
    "answer = objective_value(m)\n",
    "\n",
    "print(\"p* = $(round(answer; digits=1))\\n\")"
   ]
  },
  {
   "attachments": {},
   "cell_type": "markdown",
   "id": "d755544e",
   "metadata": {},
   "source": [
    "## Q1(b)"
   ]
  },
  {
   "attachments": {},
   "cell_type": "markdown",
   "id": "1c8548fb",
   "metadata": {},
   "source": [
    "\\begin{align*}\n",
    "&L(x, λ) = 0.5*(x_1^2 + x_2^2) + λ*(1-x_1)\\\\\n",
    "&L(x, λ) = 0.5*(x_1^2 + x_2^2 - 2λx_1) + λ\\\\\n",
    "&L(x, λ) = 0.5*(x_1^2 + x_2^2 - 2λx_1 + λ^2)\\\\\n",
    "&L(x, λ) = 0.5*((x_1 - λ)^2 + x_2^2) - 0.5λ^2 + λ\\\\\n",
    "&g(λ) = min L(x, λ)\\\\\n",
    "& min 0.5*((x_1 - λ)^2 + x_2^2) = 0\\\\\n",
    "&g(λ) = - 0.5λ^2 + λ\\\\\n",
    "\\end{align*}\n"
   ]
  },
  {
   "attachments": {},
   "cell_type": "markdown",
   "id": "f785397e",
   "metadata": {},
   "source": [
    "## Q1(c)"
   ]
  },
  {
   "cell_type": "code",
   "execution_count": 10,
   "id": "711b4f9b",
   "metadata": {
    "scrolled": false
   },
   "outputs": [
    {
     "name": "stdout",
     "output_type": "stream",
     "text": [
      "d* = 0.5\n"
     ]
    }
   ],
   "source": [
    "m = Model(Ipopt.Optimizer)\n",
    "\n",
    "set_silent(m)\n",
    "\n",
    "@variable(m, 0 <= λ)\n",
    "\n",
    "@objective(m, Max, -0.5 * λ^2 + λ)\n",
    "\n",
    "optimize!(m)\n",
    "\n",
    "answer = objective_value(m)\n",
    "\n",
    "print(\"d* = $(round(answer; digits=1))\\n\")"
   ]
  },
  {
   "attachments": {},
   "cell_type": "markdown",
   "id": "0e853427",
   "metadata": {},
   "source": [
    "## Q1(d)"
   ]
  },
  {
   "attachments": {},
   "cell_type": "markdown",
   "id": "1b669f19",
   "metadata": {},
   "source": [
    "It is satisfied because it exist a feasible point and it is affine.\n",
    "\n",
    "p* = d* = 0.5"
   ]
  },
  {
   "attachments": {},
   "cell_type": "markdown",
   "id": "f3915156",
   "metadata": {},
   "source": [
    "## Q2(a)"
   ]
  },
  {
   "cell_type": "code",
   "execution_count": 27,
   "id": "9e254142",
   "metadata": {},
   "outputs": [
    {
     "name": "stdout",
     "output_type": "stream",
     "text": [
      "p* = -0.5\n"
     ]
    }
   ],
   "source": [
    "m = Model(Ipopt.Optimizer)\n",
    "set_silent(m)\n",
    "\n",
    "x = @variable(m, [1:2])\n",
    "set_start_value(x[1], 1/sqrt(2))\n",
    "set_start_value(x[2], 1/sqrt(2))\n",
    "\n",
    "@constraint(m, x[1]^2 + x[2]^2 - 1 <= 0)\n",
    "\n",
    "@objective(m, Min, x[1]*x[2])\n",
    "\n",
    "optimize!(m)\n",
    "answer = objective_value(m)\n",
    "\n",
    "print(\"p* = $(round(answer; digits=1))\\n\")"
   ]
  },
  {
   "attachments": {},
   "cell_type": "markdown",
   "id": "2ff7b564",
   "metadata": {},
   "source": [
    "## Q2(b)"
   ]
  },
  {
   "attachments": {},
   "cell_type": "markdown",
   "id": "6ceb0377",
   "metadata": {},
   "source": [
    "\\begin{align*}\n",
    "&dL/dx_1 = x_2 + 2x_1λ = 0\\\\\n",
    "&dL/dx_2 = x_1 + 2x_2λ = 0\\\\\n",
    "&\\text{Because }\\quad  x_2 + 2x_1λ = 0\\\\\n",
    "&\\text{Then }\\quad  2x_2λ +4x_1λ^2\\\\\n",
    "&\\text{Because }\\quad  x_1 = -2x_2λ\\\\\n",
    "&\\text{Then }\\quad  -x_1 = 2x_2λ\\\\\n",
    "&\\text{Thus, }\\quad  4λ^2x_1 - x_1 = 0\\\\\n",
    "&λ = 1/2 \\quad\\text{Because }\\quad λ >= 0\\\\\n",
    "&\\text{For }\\quad λ=1/2\\\\\n",
    "&g(λ) = x_1x_2 + 0.5(x_1^2 + x_2^2-1)\\\\\n",
    "&g(λ) = x_1x_2 + 0.5x_1^2 + 0.5x_2^2 - 0.5\\\\\n",
    "&g(λ) = 0.5(x_1 + x_2)^2 - 0.5\\\\\n",
    "&\\text{Thus, }\\quad g(λ) = -0.5 \\quad\\text{when }\\quad λ = 0.5\\\\\n",
    "&\\text{If }\\quad λ >= 0.5, \\quad g(λ) = -λ \\text{, }\\quad\\text{Because }\\quad λ(x_1+x_2)^2 > λ\\\\\n",
    "&\\text{Otherwise, when }\\quad\\ 0.5 > λ >= 0\\text{, }\\quad\\text{then }\\quad g(λ) = -\\infty\\\\\n",
    "\\end{align*}"
   ]
  },
  {
   "attachments": {},
   "cell_type": "markdown",
   "id": "0b38ef7f",
   "metadata": {},
   "source": [
    "## Q2(c)"
   ]
  },
  {
   "cell_type": "code",
   "execution_count": 44,
   "id": "cd760908",
   "metadata": {},
   "outputs": [
    {
     "name": "stdout",
     "output_type": "stream",
     "text": [
      "d* = -0.5\n"
     ]
    }
   ],
   "source": [
    "m = Model(Ipopt.Optimizer)\n",
    "\n",
    "set_silent(m)\n",
    "\n",
    "@variable(m, 0.5 <= λ) # 0.5 because when 0 <=λ< 0.5, there is no derivative\n",
    "\n",
    "@objective(m, Max, -λ)\n",
    "\n",
    "optimize!(m)\n",
    "\n",
    "answer = objective_value(m)\n",
    "\n",
    "print(\"d* = $(round(answer; digits=1))\\n\")"
   ]
  },
  {
   "attachments": {},
   "cell_type": "markdown",
   "id": "503637eb",
   "metadata": {},
   "source": [
    "## Q2(d)"
   ]
  },
  {
   "attachments": {},
   "cell_type": "markdown",
   "id": "f34f84e2",
   "metadata": {},
   "source": [
    "It is satisfied because it exist a feasible point and it is affine.\n",
    "\n",
    "p* = d* = -0.5"
   ]
  }
 ],
 "metadata": {
  "kernelspec": {
   "display_name": "Julia 1.8.5",
   "language": "julia",
   "name": "julia-1.8"
  },
  "language_info": {
   "file_extension": ".jl",
   "mimetype": "application/julia",
   "name": "julia",
   "version": "1.8.5"
  }
 },
 "nbformat": 4,
 "nbformat_minor": 5
}
